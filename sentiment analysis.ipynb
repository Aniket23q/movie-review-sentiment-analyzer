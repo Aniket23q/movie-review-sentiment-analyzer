{
 "cells": [
  {
   "cell_type": "code",
   "execution_count": 4,
   "id": "1293e774-a590-4eda-a8c4-937a335b4e93",
   "metadata": {},
   "outputs": [],
   "source": [
    "#textblock is an simple library for sentiment anaylsis which is a fuction of NLP\n",
    "#sentiment analysis - it helps in understanding the emotions behind the text posted on a survey or social media "
   ]
  },
  {
   "cell_type": "code",
   "execution_count": 1,
   "id": "6bdaacf0-6363-4970-8bf9-a4d3f9b133e2",
   "metadata": {},
   "outputs": [
    {
     "name": "stdout",
     "output_type": "stream",
     "text": [
      "Requirement already satisfied: textblob in c:\\users\\aniket\\anaconda3\\lib\\site-packages (0.19.0)\n",
      "Requirement already satisfied: nltk>=3.9 in c:\\users\\aniket\\anaconda3\\lib\\site-packages (from textblob) (3.9.1)\n",
      "Requirement already satisfied: click in c:\\users\\aniket\\anaconda3\\lib\\site-packages (from nltk>=3.9->textblob) (8.1.7)\n",
      "Requirement already satisfied: joblib in c:\\users\\aniket\\anaconda3\\lib\\site-packages (from nltk>=3.9->textblob) (1.4.2)\n",
      "Requirement already satisfied: regex>=2021.8.3 in c:\\users\\aniket\\anaconda3\\lib\\site-packages (from nltk>=3.9->textblob) (2024.9.11)\n",
      "Requirement already satisfied: tqdm in c:\\users\\aniket\\anaconda3\\lib\\site-packages (from nltk>=3.9->textblob) (4.66.5)\n",
      "Requirement already satisfied: colorama in c:\\users\\aniket\\anaconda3\\lib\\site-packages (from click->nltk>=3.9->textblob) (0.4.6)\n"
     ]
    }
   ],
   "source": [
    "!pip install textblob"
   ]
  },
  {
   "cell_type": "code",
   "execution_count": 3,
   "id": "76d2bae2-a7d0-430c-b07f-21a962a5e0c0",
   "metadata": {},
   "outputs": [
    {
     "name": "stderr",
     "output_type": "stream",
     "text": [
      "IOPub data rate exceeded.\n",
      "The Jupyter server will temporarily stop sending output\n",
      "to the client in order to avoid crashing it.\n",
      "To change this limit, set the config variable\n",
      "`--ServerApp.iopub_data_rate_limit`.\n",
      "\n",
      "Current values:\n",
      "ServerApp.iopub_data_rate_limit=1000000.0 (bytes/sec)\n",
      "ServerApp.rate_limit_window=3.0 (secs)\n",
      "\n"
     ]
    }
   ],
   "source": [
    "from movie_reviews import reviews \n",
    "import random\n",
    "from textblob import TextBlob #provides text mining analysis and text process modules \n",
    "from IPython.display import clear_output"
   ]
  },
  {
   "cell_type": "code",
   "execution_count": 4,
   "id": "2684936d-0d92-4b22-b1e2-a2bbb424f314",
   "metadata": {},
   "outputs": [
    {
     "data": {
      "text/plain": [
       "['Endgame',\n",
       " 'Forest_gump',\n",
       " 'Johnwick',\n",
       " 'Joker',\n",
       " 'Morbius',\n",
       " 'Pulpfiction',\n",
       " 'Spiderman',\n",
       " 'Avengers',\n",
       " 'Darkknight',\n",
       " 'Ragnarok']"
      ]
     },
     "execution_count": 4,
     "metadata": {},
     "output_type": "execute_result"
    }
   ],
   "source": [
    "list(reviews.keys())"
   ]
  },
  {
   "cell_type": "code",
   "execution_count": 7,
   "id": "03f8c3e3-7b8a-4335-a0e3-55cc43b5a99e",
   "metadata": {},
   "outputs": [
    {
     "name": "stdout",
     "output_type": "stream",
     "text": [
      "Inception: 9514 words\n"
     ]
    }
   ],
   "source": [
    "print(f\"Inception: {len(reviews['Endgame'])} words\")"
   ]
  },
  {
   "cell_type": "code",
   "execution_count": 41,
   "id": "a2be5151-6c3a-40ce-b79b-4473e7874f26",
   "metadata": {},
   "outputs": [],
   "source": [
    "from textblob import TextBlob\n",
    "\n",
    "def Get_sentiment(rev):\n",
    "    \"\"\"\n",
    "    Function to return sentiment of the passed review: Positive, Negative, or Neutral\n",
    "    \"\"\"\n",
    "    analysis = TextBlob(rev)\n",
    "    polarity = analysis.sentiment.polarity\n",
    "    if polarity > 0:\n",
    "        return \"positive\"\n",
    "    elif polarity < 0:\n",
    "        return \"negative\"\n",
    "    else:\n",
    "        return \"neutral\"\n",
    "        "
   ]
  },
  {
   "cell_type": "code",
   "execution_count": 43,
   "id": "e976e38c-2862-4c9b-aa90-ea94ce0fc108",
   "metadata": {},
   "outputs": [
    {
     "data": {
      "text/plain": [
       "'positive'"
      ]
     },
     "execution_count": 43,
     "metadata": {},
     "output_type": "execute_result"
    }
   ],
   "source": [
    "Get_sentiment('i love the movie ')"
   ]
  },
  {
   "cell_type": "code",
   "execution_count": 45,
   "id": "7b35d62d-edf2-4f2c-b592-f15f587f706d",
   "metadata": {},
   "outputs": [],
   "source": [
    "#sample checking django movie#"
   ]
  },
  {
   "cell_type": "code",
   "execution_count": 47,
   "id": "b4272a08-4b76-4dad-8edd-d1d3f7d9dbb3",
   "metadata": {},
   "outputs": [
    {
     "data": {
      "text/plain": [
       "'positive'"
      ]
     },
     "execution_count": 47,
     "metadata": {},
     "output_type": "execute_result"
    }
   ],
   "source": [
    "Get_sentiment('Django is an intense and gripping western with powerful performances and a thrilling storyline. The action scenes are well-choreographed, and the soundtrack perfectly complements the mood. A must-watch for fans of the genre')"
   ]
  },
  {
   "cell_type": "code",
   "execution_count": 49,
   "id": "be66a2fc-b996-4de5-9468-a3e8cee9f40e",
   "metadata": {},
   "outputs": [],
   "source": [
    "def Get_reviews(num_reviews, movie_name):\n",
    "    \"\"\"Process reviews and return a list of dictionaries with their respective reviews and sentiment\"\"\"\n",
    "    \n",
    "    # Select random reviews\n",
    "    selected_reviews = random.sample(reviews[movie_name], num_reviews)\n",
    "    \n",
    "    print('First two random reviews:\\n')\n",
    "    print(selected_reviews[0], '\\n')\n",
    "    print(selected_reviews[1], '\\n')\n",
    "    \n",
    "    final_processed_review = []\n",
    "    \n",
    "    for inner_list in selected_reviews:\n",
    "        # Empty dictionary to store selected review details\n",
    "        parsed_review = {}\n",
    "        \n",
    "        # Save the review text\n",
    "        parsed_review['text'] = inner_list[0]\n",
    "        \n",
    "        # Save the sentiment using Get_sentiment function\n",
    "        parsed_review['sentiment'] = Get_sentiment(inner_list[0])\n",
    "        \n",
    "        # Add to final list\n",
    "        final_processed_review.append(parsed_review)\n",
    "    \n",
    "    return final_processed_review"
   ]
  },
  {
   "cell_type": "code",
   "execution_count": 51,
   "id": "ad6d2ae9-db36-4beb-8b79-13b63014439c",
   "metadata": {},
   "outputs": [
    {
     "name": "stdout",
     "output_type": "stream",
     "text": [
      "First two random reviews:\n",
      "\n",
      "['We grow up watching MCU Superhero movies.. I think that End game is the prize for us.. 21 movies with an epic conclusion'] \n",
      "\n",
      "[\"This is a movie for fans of the mcu. It's job is to essentially wrap up the last 21 films and it does so with a new and very different tone from the previous films. It is light in general tone with darker moments that all serve to bring as much emotion as they can. It is very much a character driven movie with few action scenes. (1 major one). People who who are invested in these characters and who have enjoyed the mcu fro the start will enjoy this. I have a feeling those who just want an action packed finisher to infinity war will be left feeling unfulfilled. Essentially, it is an emotional 3 hours filled with character development, humour and an end-of-term vibe and a great way of ending the mcu as we know it\"] \n",
      "\n"
     ]
    },
    {
     "data": {
      "text/plain": [
       "[{'text': 'We grow up watching MCU Superhero movies.. I think that End game is the prize for us.. 21 movies with an epic conclusion',\n",
       "  'sentiment': 'negative'},\n",
       " {'text': \"This is a movie for fans of the mcu. It's job is to essentially wrap up the last 21 films and it does so with a new and very different tone from the previous films. It is light in general tone with darker moments that all serve to bring as much emotion as they can. It is very much a character driven movie with few action scenes. (1 major one). People who who are invested in these characters and who have enjoyed the mcu fro the start will enjoy this. I have a feeling those who just want an action packed finisher to infinity war will be left feeling unfulfilled. Essentially, it is an emotional 3 hours filled with character development, humour and an end-of-term vibe and a great way of ending the mcu as we know it\",\n",
       "  'sentiment': 'positive'},\n",
       " {'text': \"I am not a Marvel fans so I hadn't seen many marvel movies so far . I think a good movie\\nespecially such magnitude like avenger 4 should let most people can understand content even I didn't see other marvel movies before. As a non marvel fans moviegoer , avenger 4 is not a good movie for the audiences like me . So that why I think this movie has wild room to improve because I still think audiences like me are not the minority\",\n",
       "  'sentiment': 'positive'}]"
      ]
     },
     "execution_count": 51,
     "metadata": {},
     "output_type": "execute_result"
    }
   ],
   "source": [
    "Get_reviews(3,\"Endgame\")"
   ]
  },
  {
   "cell_type": "code",
   "execution_count": 53,
   "id": "1f02f78a-9640-40d9-8da2-74848faf5c60",
   "metadata": {},
   "outputs": [],
   "source": [
    "def analyze():\n",
    "    print(list(reviews.keys()))\n",
    "    movie_name = input(\"select a movie you want to analyze: \")\n",
    "    \n",
    "    if movie_name in list(reviews.keys()):\n",
    "        num_of_reviews = int(input(\"enter number of reviews you want to analyze: \"))\n",
    "        clear_output()\n",
    "        review = Get_reviews(num_of_reviews, movie_name)\n",
    "\n",
    "        # picking positive reviews\n",
    "        positive_review = []\n",
    "        for item in review:\n",
    "            if item[\"sentiment\"] == \"positive\":\n",
    "                positive_review.append(item)\n",
    "\n",
    "        # percentage of positive reviews\n",
    "        print(\"percentage of positive reviews: {} %\".format(100 * len(positive_review) / num_of_reviews))\n",
    "\n",
    "        # picking negative reviews\n",
    "        negative_reviews = [rev1 for rev1 in review if rev1[\"sentiment\"] == \"negative\"]\n",
    "\n",
    "        # percentage negative reviews\n",
    "        print(\"percentage of negative reviews: {} %\".format(100 * len(negative_reviews) / num_of_reviews))\n",
    "\n",
    "        # percentage neutral reviews\n",
    "        neutral_reviews = [rev1 for rev1 in review if rev1[\"sentiment\"] == \"neutral\"]\n",
    "        print(\"percentage of neutral reviews: {} %\".format(100 * len(neutral_reviews) / num_of_reviews))\n",
    "        \n",
    "    else:\n",
    "        return \"movie not found\""
   ]
  },
  {
   "cell_type": "code",
   "execution_count": 55,
   "id": "96cc936f-dc54-4eca-a96b-cca5313e9288",
   "metadata": {},
   "outputs": [
    {
     "name": "stdout",
     "output_type": "stream",
     "text": [
      "First two random reviews:\n",
      "\n",
      "[\"Americans continue to display east Asians & Arabs as the superiors of all evil. And I'm growing sick and tired of this sh**.😒\\nStory sucked. Honestly, it just seemed like a repetitive tacky a** action movie.\\nTHE TRASH 🗑\"] \n",
      "\n",
      "[\"Excellent, fun, non-stop action movie. Lots of fighting which are sequenced perfectly. Hallie Berry really gets down too. One of the best action movies I've seen in a long time. You know there'll be another one.\"] \n",
      "\n",
      "percentage of positive reviews: 50.0 %\n",
      "percentage of negative reviews: 50.0 %\n",
      "percentage of neutral reviews: 0.0 %\n"
     ]
    }
   ],
   "source": [
    "analyze()"
   ]
  },
  {
   "cell_type": "code",
   "execution_count": null,
   "id": "34bead36-0adb-4ce7-82f6-ab3aa07cb533",
   "metadata": {},
   "outputs": [],
   "source": []
  }
 ],
 "metadata": {
  "kernelspec": {
   "display_name": "Python [conda env:base] *",
   "language": "python",
   "name": "conda-base-py"
  },
  "language_info": {
   "codemirror_mode": {
    "name": "ipython",
    "version": 3
   },
   "file_extension": ".py",
   "mimetype": "text/x-python",
   "name": "python",
   "nbconvert_exporter": "python",
   "pygments_lexer": "ipython3",
   "version": "3.12.7"
  }
 },
 "nbformat": 4,
 "nbformat_minor": 5
}
